{
 "cells": [
  {
   "cell_type": "code",
   "execution_count": 2,
   "metadata": {},
   "outputs": [
    {
     "name": "stdout",
     "output_type": "stream",
     "text": [
      "{}\n",
      "<class 'dict'>\n",
      "{}\n",
      "<class 'dict'>\n"
     ]
    }
   ],
   "source": [
    "mydict = dict()\n",
    "print(mydict)\n",
    "print(type(mydict))\n",
    "md = {}\n",
    "print(md)\n",
    "print(type(md))"
   ]
  },
  {
   "cell_type": "markdown",
   "metadata": {},
   "source": [
    "# Accesing element from dictionary"
   ]
  },
  {
   "cell_type": "code",
   "execution_count": 9,
   "metadata": {},
   "outputs": [
    {
     "name": "stdout",
     "output_type": "stream",
     "text": [
      "{'one': 'uno', 'two': 'dos', 'three': 'tres'}\n",
      "uno\n",
      "tres\n"
     ]
    },
    {
     "ename": "KeyError",
     "evalue": "'four'",
     "output_type": "error",
     "traceback": [
      "\u001b[1;31m---------------------------------------------------------------------------\u001b[0m",
      "\u001b[1;31mKeyError\u001b[0m                                  Traceback (most recent call last)",
      "\u001b[1;32me:\\DS&A\\code\\Data_Collection\\dict.ipynb Cell 2\u001b[0m in \u001b[0;36m<cell line: 7>\u001b[1;34m()\u001b[0m\n\u001b[0;32m      <a href='vscode-notebook-cell:/e%3A/DS%26A/code/Data_Collection/dict.ipynb#W1sZmlsZQ%3D%3D?line=4'>5</a>\u001b[0m t \u001b[39m=\u001b[39m entosp[\u001b[39m\"\u001b[39m\u001b[39mthree\u001b[39m\u001b[39m\"\u001b[39m]\n\u001b[0;32m      <a href='vscode-notebook-cell:/e%3A/DS%26A/code/Data_Collection/dict.ipynb#W1sZmlsZQ%3D%3D?line=5'>6</a>\u001b[0m \u001b[39mprint\u001b[39m(t)\n\u001b[1;32m----> <a href='vscode-notebook-cell:/e%3A/DS%26A/code/Data_Collection/dict.ipynb#W1sZmlsZQ%3D%3D?line=6'>7</a>\u001b[0m u \u001b[39m=\u001b[39m entosp[\u001b[39m\"\u001b[39;49m\u001b[39mfour\u001b[39;49m\u001b[39m\"\u001b[39;49m]\n\u001b[0;32m      <a href='vscode-notebook-cell:/e%3A/DS%26A/code/Data_Collection/dict.ipynb#W1sZmlsZQ%3D%3D?line=7'>8</a>\u001b[0m \u001b[39mprint\u001b[39m(u)\n",
      "\u001b[1;31mKeyError\u001b[0m: 'four'"
     ]
    }
   ],
   "source": [
    "entosp ={\"one\":\"uno\",\"two\":\"dos\",\"three\":\"tres\"}\n",
    "print(entosp)\n",
    "s = entosp[\"one\"]\n",
    "print(s)\n",
    "t = entosp[\"three\"]                # Time complexity is O(1)\n",
    "print(t)\n",
    "u = entosp[\"four\"]\n",
    "print(u)"
   ]
  },
  {
   "cell_type": "markdown",
   "metadata": {},
   "source": [
    "# Insert/Update element in dictionary"
   ]
  },
  {
   "cell_type": "code",
   "execution_count": 6,
   "metadata": {},
   "outputs": [
    {
     "name": "stdout",
     "output_type": "stream",
     "text": [
      "{'name': 'nayan', 'age': 26, 'height': 5.6}\n",
      "{'name': 'nayan', 'age': 27, 'height': 5.6}\n"
     ]
    }
   ],
   "source": [
    "dr = {\"name\":\"nayan\",\"age\":26,\"height\":5.6}\n",
    "type(dr)\n",
    "print(dr)\n",
    "#hash(\"name\")\n",
    "dr['age'] = 27                # Time complexity and space complexity is O(1)\n",
    "print(dr)"
   ]
  },
  {
   "cell_type": "code",
   "execution_count": 8,
   "metadata": {},
   "outputs": [
    {
     "name": "stdout",
     "output_type": "stream",
     "text": [
      "{'name': 'nayan', 'age': 26, 'height': 5.6, 'address': 'Dhaka'}\n"
     ]
    }
   ],
   "source": [
    "dr = {\"name\":\"nayan\",\"age\":26,\"height\":5.6}\n",
    "dr['address'] = 'Dhaka' #Time complexity is O(1) and space complexity is amortized O(1)\n",
    "print(dr)"
   ]
  },
  {
   "cell_type": "markdown",
   "metadata": {},
   "source": [
    "# Traverse through a dictionary"
   ]
  },
  {
   "cell_type": "code",
   "execution_count": 11,
   "metadata": {},
   "outputs": [
    {
     "name": "stdout",
     "output_type": "stream",
     "text": [
      "name : nayan\n",
      "age : 26\n",
      "height : 5.6\n",
      "address : Dhaka\n"
     ]
    }
   ],
   "source": [
    "dr = {'name': 'nayan', 'age': 26, 'height': 5.6, 'address': 'Dhaka'}\n",
    "def traverse_dct(dn):\n",
    "    for k in dn:\n",
    "        print(k,':',dn[k])     # T.C is O(n) and S.C is O(1)\n",
    "t = traverse_dct(dr) \n",
    "t       "
   ]
  },
  {
   "cell_type": "code",
   "execution_count": 12,
   "metadata": {},
   "outputs": [
    {
     "name": "stdout",
     "output_type": "stream",
     "text": [
      "name\n",
      "age\n",
      "height\n",
      "address\n"
     ]
    }
   ],
   "source": [
    "dr = {'name': 'nayan', 'age': 26, 'height': 5.6, 'address': 'Dhaka'}\n",
    "def traverse_dct(dn):\n",
    "    for k in dn:\n",
    "        print(k)\n",
    "t = traverse_dct(dr) \n",
    "t       "
   ]
  },
  {
   "cell_type": "code",
   "execution_count": 20,
   "metadata": {},
   "outputs": [
    {
     "ename": "ValueError",
     "evalue": "too many values to unpack (expected 2)",
     "output_type": "error",
     "traceback": [
      "\u001b[1;31m---------------------------------------------------------------------------\u001b[0m",
      "\u001b[1;31mValueError\u001b[0m                                Traceback (most recent call last)",
      "\u001b[1;32me:\\DS&A\\code\\Data_Collection\\dict.ipynb Cell 10\u001b[0m in \u001b[0;36m<cell line: 5>\u001b[1;34m()\u001b[0m\n\u001b[0;32m      <a href='vscode-notebook-cell:/e%3A/DS%26A/code/Data_Collection/dict.ipynb#X16sZmlsZQ%3D%3D?line=2'>3</a>\u001b[0m     \u001b[39mfor\u001b[39;00m k,n \u001b[39min\u001b[39;00m dn:\n\u001b[0;32m      <a href='vscode-notebook-cell:/e%3A/DS%26A/code/Data_Collection/dict.ipynb#X16sZmlsZQ%3D%3D?line=3'>4</a>\u001b[0m         \u001b[39mprint\u001b[39m(k,n)\n\u001b[1;32m----> <a href='vscode-notebook-cell:/e%3A/DS%26A/code/Data_Collection/dict.ipynb#X16sZmlsZQ%3D%3D?line=4'>5</a>\u001b[0m t \u001b[39m=\u001b[39m traverse_dct(dr) \n\u001b[0;32m      <a href='vscode-notebook-cell:/e%3A/DS%26A/code/Data_Collection/dict.ipynb#X16sZmlsZQ%3D%3D?line=5'>6</a>\u001b[0m t\n",
      "\u001b[1;32me:\\DS&A\\code\\Data_Collection\\dict.ipynb Cell 10\u001b[0m in \u001b[0;36mtraverse_dct\u001b[1;34m(dn)\u001b[0m\n\u001b[0;32m      <a href='vscode-notebook-cell:/e%3A/DS%26A/code/Data_Collection/dict.ipynb#X16sZmlsZQ%3D%3D?line=1'>2</a>\u001b[0m \u001b[39mdef\u001b[39;00m \u001b[39mtraverse_dct\u001b[39m(dn):\n\u001b[1;32m----> <a href='vscode-notebook-cell:/e%3A/DS%26A/code/Data_Collection/dict.ipynb#X16sZmlsZQ%3D%3D?line=2'>3</a>\u001b[0m     \u001b[39mfor\u001b[39;00m k,n \u001b[39min\u001b[39;00m dn:\n\u001b[0;32m      <a href='vscode-notebook-cell:/e%3A/DS%26A/code/Data_Collection/dict.ipynb#X16sZmlsZQ%3D%3D?line=3'>4</a>\u001b[0m         \u001b[39mprint\u001b[39m(k,n)\n",
      "\u001b[1;31mValueError\u001b[0m: too many values to unpack (expected 2)"
     ]
    }
   ],
   "source": [
    "dr = {'name': 'nayan', 'age': 26, 'height': 5.6, 'address': 'Dhaka'}\n",
    "def traverse_dct(dn):\n",
    "    for k,n in dn:\n",
    "        print(k,n)\n",
    "t = traverse_dct(dr) \n",
    "t       "
   ]
  },
  {
   "cell_type": "code",
   "execution_count": 14,
   "metadata": {},
   "outputs": [
    {
     "name": "stdout",
     "output_type": "stream",
     "text": [
      "a\n",
      "s\n",
      "h\n",
      "r\n",
      "a\n",
      "f\n"
     ]
    }
   ],
   "source": [
    "s ='ashraf'\n",
    "for i in s:\n",
    "    print(i)"
   ]
  },
  {
   "cell_type": "code",
   "execution_count": 16,
   "metadata": {},
   "outputs": [
    {
     "ename": "NameError",
     "evalue": "name 'index' is not defined",
     "output_type": "error",
     "traceback": [
      "\u001b[1;31m---------------------------------------------------------------------------\u001b[0m",
      "\u001b[1;31mNameError\u001b[0m                                 Traceback (most recent call last)",
      "\u001b[1;32me:\\DS&A\\code\\Data_Collection\\dict.ipynb Cell 11\u001b[0m in \u001b[0;36m<cell line: 2>\u001b[1;34m()\u001b[0m\n\u001b[0;32m      <a href='vscode-notebook-cell:/e%3A/DS%26A/code/Data_Collection/dict.ipynb#X14sZmlsZQ%3D%3D?line=0'>1</a>\u001b[0m s \u001b[39m=\u001b[39m\u001b[39m'\u001b[39m\u001b[39mashraf\u001b[39m\u001b[39m'\u001b[39m\n\u001b[1;32m----> <a href='vscode-notebook-cell:/e%3A/DS%26A/code/Data_Collection/dict.ipynb#X14sZmlsZQ%3D%3D?line=1'>2</a>\u001b[0m \u001b[39mfor\u001b[39;00m i \u001b[39min\u001b[39;00m index(s):\n\u001b[0;32m      <a href='vscode-notebook-cell:/e%3A/DS%26A/code/Data_Collection/dict.ipynb#X14sZmlsZQ%3D%3D?line=2'>3</a>\u001b[0m     \u001b[39mprint\u001b[39m(s[i])\n",
      "\u001b[1;31mNameError\u001b[0m: name 'index' is not defined"
     ]
    }
   ],
   "source": [
    "s ='ashraf'\n",
    "for i in s:\n",
    "    print(s[i])"
   ]
  },
  {
   "cell_type": "code",
   "execution_count": 19,
   "metadata": {},
   "outputs": [
    {
     "name": "stdout",
     "output_type": "stream",
     "text": [
      "a\n",
      "s\n",
      "h\n",
      "r\n",
      "a\n",
      "f\n"
     ]
    }
   ],
   "source": [
    "s = ['a','s','h','r','a','f']\n",
    "for i in s:\n",
    "    print(i)"
   ]
  },
  {
   "cell_type": "markdown",
   "metadata": {},
   "source": [
    "# Search element in dictionary"
   ]
  },
  {
   "cell_type": "code",
   "execution_count": 22,
   "metadata": {},
   "outputs": [
    {
     "data": {
      "text/plain": [
       "\"The value doesn't exist\""
      ]
     },
     "execution_count": 22,
     "metadata": {},
     "output_type": "execute_result"
    }
   ],
   "source": [
    "dr = {'name': 'nayan', 'age': 26, 'height': 5.6, 'address':'Dhaka'}\n",
    "def search_dct(dn,value):\n",
    "    for k in dn:\n",
    "        if dn[k] == value:                     # T.C is O(n) and S.C is O(1)\n",
    "            return k,value\n",
    "    return \"The value doesn't exist\"        \n",
    "s =  search_dct(dr,9) \n",
    "s    \n"
   ]
  },
  {
   "cell_type": "markdown",
   "metadata": {},
   "source": [
    "# Delete/Remove element from dictionary"
   ]
  },
  {
   "cell_type": "code",
   "execution_count": 23,
   "metadata": {},
   "outputs": [
    {
     "name": "stdout",
     "output_type": "stream",
     "text": [
      "nayan\n",
      "{'age': 26, 'height': 5.6, 'address': 'Dhaka'}\n"
     ]
    }
   ],
   "source": [
    "dr = {'name': 'nayan', 'age': 26, 'height': 5.6, 'address':'Dhaka'}\n",
    "print(dr.pop('name'))\n",
    "print(dr)"
   ]
  },
  {
   "cell_type": "code",
   "execution_count": 23,
   "metadata": {},
   "outputs": [
    {
     "name": "stdout",
     "output_type": "stream",
     "text": [
      "('address', 'Dhaka')\n",
      "{'name': 'nayan', 'age': 26, 'height': 5.6}\n",
      "None\n",
      "{}\n"
     ]
    }
   ],
   "source": [
    "dr = {'name': 'nayan', 'age': 26, 'height': 5.6, 'address':'Dhaka'}\n",
    "print(dr.popitem())\n",
    "print(dr)\n",
    "print(dr.clear())\n",
    "print(dr)"
   ]
  },
  {
   "cell_type": "code",
   "execution_count": 3,
   "metadata": {},
   "outputs": [
    {
     "name": "stdout",
     "output_type": "stream",
     "text": [
      "{'name': 'nayan', 'age': 26, 'address': 'Dhaka'}\n"
     ]
    },
    {
     "ename": "NameError",
     "evalue": "name 'dr' is not defined",
     "output_type": "error",
     "traceback": [
      "\u001b[1;31m---------------------------------------------------------------------------\u001b[0m",
      "\u001b[1;31mNameError\u001b[0m                                 Traceback (most recent call last)",
      "\u001b[1;32me:\\DS&A\\code\\Data_Collection\\dict.ipynb Cell 19\u001b[0m in \u001b[0;36m<cell line: 5>\u001b[1;34m()\u001b[0m\n\u001b[0;32m      <a href='vscode-notebook-cell:/e%3A/DS%26A/code/Data_Collection/dict.ipynb#X24sZmlsZQ%3D%3D?line=2'>3</a>\u001b[0m \u001b[39mprint\u001b[39m(dr)\n\u001b[0;32m      <a href='vscode-notebook-cell:/e%3A/DS%26A/code/Data_Collection/dict.ipynb#X24sZmlsZQ%3D%3D?line=3'>4</a>\u001b[0m \u001b[39mdel\u001b[39;00m dr\n\u001b[1;32m----> <a href='vscode-notebook-cell:/e%3A/DS%26A/code/Data_Collection/dict.ipynb#X24sZmlsZQ%3D%3D?line=4'>5</a>\u001b[0m \u001b[39mprint\u001b[39m(dr)\n",
      "\u001b[1;31mNameError\u001b[0m: name 'dr' is not defined"
     ]
    }
   ],
   "source": [
    "dr = {'name': 'nayan', 'age': 26, 'height': 5.6, 'address':'Dhaka'}\n",
    "del dr['height']              # Time complexity usually is O(1)\n",
    "print(dr)                     # Time complexity amortizely is O(n)\n",
    "del dr                        # Space complexity is O(1)\n",
    "print(dr)"
   ]
  },
  {
   "cell_type": "markdown",
   "metadata": {},
   "source": [
    "# Dictionary Methods"
   ]
  },
  {
   "cell_type": "markdown",
   "metadata": {},
   "source": [
    "## Shallow copy"
   ]
  },
  {
   "cell_type": "code",
   "execution_count": 3,
   "metadata": {},
   "outputs": [
    {
     "name": "stdout",
     "output_type": "stream",
     "text": [
      "2190386587136\n",
      "2190386587136\n",
      "{'name': 'nayan', 'age': 26, 'height': 5.6, 'address': 'Dhaka'}\n"
     ]
    }
   ],
   "source": [
    "dr = {'name': 'nayan', 'age': 26, 'height': 5.6, 'address':'Dhaka'}\n",
    "print(id(dr))\n",
    "dn = dr\n",
    "print(id(dn))\n",
    "print(dn)"
   ]
  },
  {
   "cell_type": "code",
   "execution_count": 4,
   "metadata": {},
   "outputs": [
    {
     "name": "stdout",
     "output_type": "stream",
     "text": [
      "{'name': 'nayan', 'age': 27, 'height': 5.6, 'address': 'Dhaka'}\n",
      "{'name': 'nayan', 'age': 27, 'height': 5.6, 'address': 'Dhaka'}\n"
     ]
    }
   ],
   "source": [
    "# Both changes\n",
    "dn['age'] = 27\n",
    "print(dn)\n",
    "print(dr)           "
   ]
  },
  {
   "cell_type": "markdown",
   "metadata": {},
   "source": [
    "## Deep copy"
   ]
  },
  {
   "cell_type": "code",
   "execution_count": 8,
   "metadata": {},
   "outputs": [
    {
     "name": "stdout",
     "output_type": "stream",
     "text": [
      "2190389317312\n",
      "2190386658048\n",
      "{'name': 'nayan', 'age': 26, 'height': 5.6, 'address': 'Dhaka'}\n"
     ]
    }
   ],
   "source": [
    "dr = {'name': 'nayan', 'age': 26, 'height': 5.6, 'address':'Dhaka'}\n",
    "print(id(dr))\n",
    "dn = dr.copy()\n",
    "print(id(dn))\n",
    "print(dn)"
   ]
  },
  {
   "cell_type": "code",
   "execution_count": 9,
   "metadata": {},
   "outputs": [
    {
     "name": "stdout",
     "output_type": "stream",
     "text": [
      "{'name': 'nayan', 'age': 27, 'height': 5.6, 'address': 'Dhaka'}\n",
      "{'name': 'nayan', 'age': 26, 'height': 5.6, 'address': 'Dhaka'}\n"
     ]
    }
   ],
   "source": [
    "dn['age'] = 27\n",
    "print(dn)\n",
    "print(dr) "
   ]
  },
  {
   "cell_type": "markdown",
   "metadata": {},
   "source": [
    "## Other Methods"
   ]
  },
  {
   "cell_type": "code",
   "execution_count": 6,
   "metadata": {},
   "outputs": [
    {
     "name": "stdout",
     "output_type": "stream",
     "text": [
      "1604144513152\n",
      "1602024168384\n",
      "{'education': 26, 'cgpa': 26}\n",
      "{'name': 'nayan', 'age': 26, 'height': 5.6, 'address': 'Dhaka'}\n"
     ]
    }
   ],
   "source": [
    "dr = {'name': 'nayan', 'age': 26, 'height': 5.6, 'address':'Dhaka'}\n",
    "print(id(dr))\n",
    "dn = dr.fromkeys(['education','cgpa'],26)\n",
    "print(id(dn))\n",
    "print(dn)\n",
    "print(dr)"
   ]
  },
  {
   "cell_type": "code",
   "execution_count": 19,
   "metadata": {},
   "outputs": [
    {
     "data": {
      "text/plain": [
       "{'age': 26, 'education': 26}"
      ]
     },
     "execution_count": 19,
     "metadata": {},
     "output_type": "execute_result"
    }
   ],
   "source": [
    "dn = {}.fromkeys(['age','education'],26)\n",
    "dn"
   ]
  },
  {
   "cell_type": "code",
   "execution_count": 7,
   "metadata": {},
   "outputs": [
    {
     "data": {
      "text/plain": [
       "{'age': (26, 'cs'), 'Education': (26, 'cs')}"
      ]
     },
     "execution_count": 7,
     "metadata": {},
     "output_type": "execute_result"
    }
   ],
   "source": [
    "dn = {}.fromkeys(['age','Education'],(26,'cs'))\n",
    "dn"
   ]
  },
  {
   "cell_type": "code",
   "execution_count": 2,
   "metadata": {},
   "outputs": [
    {
     "data": {
      "text/plain": [
       "5.6"
      ]
     },
     "execution_count": 2,
     "metadata": {},
     "output_type": "execute_result"
    }
   ],
   "source": [
    "dr = {'name': 'nayan', 'age': 26, 'height': 5.6, 'address':'Dhaka'}\n",
    "dr.get('height',26)"
   ]
  },
  {
   "cell_type": "code",
   "execution_count": 7,
   "metadata": {},
   "outputs": [
    {
     "name": "stdout",
     "output_type": "stream",
     "text": [
      "city\n"
     ]
    },
    {
     "data": {
      "text/plain": [
       "{'name': 'nayan', 'age': 26, 'height': 5.6, 'address': 'Dhaka'}"
      ]
     },
     "execution_count": 7,
     "metadata": {},
     "output_type": "execute_result"
    }
   ],
   "source": [
    "print(dr.get(5.6,'city'))\n",
    "dr"
   ]
  },
  {
   "cell_type": "code",
   "execution_count": 42,
   "metadata": {},
   "outputs": [
    {
     "data": {
      "text/plain": [
       "dict_items([('name', 'nayan'), ('age', 26), ('height', 5.6), ('address', 'Dhaka')])"
      ]
     },
     "execution_count": 42,
     "metadata": {},
     "output_type": "execute_result"
    }
   ],
   "source": [
    "dr.items()"
   ]
  },
  {
   "cell_type": "code",
   "execution_count": 3,
   "metadata": {},
   "outputs": [
    {
     "data": {
      "text/plain": [
       "dict_keys(['name', 'age', 'height', 'address'])"
      ]
     },
     "execution_count": 3,
     "metadata": {},
     "output_type": "execute_result"
    }
   ],
   "source": [
    "dr.keys()"
   ]
  },
  {
   "cell_type": "code",
   "execution_count": 5,
   "metadata": {},
   "outputs": [
    {
     "name": "stdout",
     "output_type": "stream",
     "text": [
      "('address', 'Dhaka')\n"
     ]
    },
    {
     "data": {
      "text/plain": [
       "{'name': 'nayan', 'age': 26, 'height': 5.6}"
      ]
     },
     "execution_count": 5,
     "metadata": {},
     "output_type": "execute_result"
    }
   ],
   "source": [
    "dr = {'name': 'nayan', 'age': 26, 'height': 5.6, 'address':'Dhaka'}\n",
    "print(dr.popitem())\n",
    "dr"
   ]
  },
  {
   "cell_type": "code",
   "execution_count": 8,
   "metadata": {},
   "outputs": [
    {
     "name": "stdout",
     "output_type": "stream",
     "text": [
      "2938555015040\n",
      "2938555015040\n",
      "{'name': 'nayan', 'age': 26, 'height': 5.6, 'address': 'Dhaka', 'Phone': '01772693406'}\n"
     ]
    }
   ],
   "source": [
    "dr = {'name': 'nayan', 'age': 26, 'height': 5.6, 'address':'Dhaka'}\n",
    "print(id(dr))\n",
    "dr[\"Phone\"] = '01772693406'\n",
    "print(id(dr))\n",
    "print(dr)"
   ]
  },
  {
   "cell_type": "code",
   "execution_count": 16,
   "metadata": {},
   "outputs": [
    {
     "name": "stdout",
     "output_type": "stream",
     "text": [
      "{'name': 'nayan', 'age': 26, 'height': 5.6, 'address': 'Dhaka', 'Phone': '01772693406', 'flat': '6D'}\n",
      "6D\n"
     ]
    },
    {
     "data": {
      "text/plain": [
       "{'name': 'nayan',\n",
       " 'age': 26,\n",
       " 'height': 5.6,\n",
       " 'address': 'Dhaka',\n",
       " 'Phone': '01772693406',\n",
       " 'flat': '6D'}"
      ]
     },
     "execution_count": 16,
     "metadata": {},
     "output_type": "execute_result"
    }
   ],
   "source": [
    "print(dr)\n",
    "print(dr.setdefault('flat','6D'))\n",
    "dr"
   ]
  },
  {
   "cell_type": "code",
   "execution_count": 18,
   "metadata": {},
   "outputs": [
    {
     "name": "stdout",
     "output_type": "stream",
     "text": [
      "{'name': 'nayan', 'age': 26, 'height': 5.6, 'address': 'Dhaka', 'Phone': '01772693406', 'flat': '6D', '2': '6D'}\n",
      "6D\n"
     ]
    },
    {
     "data": {
      "text/plain": [
       "{'name': 'nayan',\n",
       " 'age': 26,\n",
       " 'height': 5.6,\n",
       " 'address': 'Dhaka',\n",
       " 'Phone': '01772693406',\n",
       " 'flat': '6D',\n",
       " '2': '6D'}"
      ]
     },
     "execution_count": 18,
     "metadata": {},
     "output_type": "execute_result"
    }
   ],
   "source": [
    "print(dr)\n",
    "print(dr.setdefault('2','6D'))\n",
    "dr"
   ]
  },
  {
   "cell_type": "code",
   "execution_count": 21,
   "metadata": {},
   "outputs": [
    {
     "name": "stdout",
     "output_type": "stream",
     "text": [
      "{'name': 'nayan', 'age': 26, 'height': 5.6, 'address': 'Dhaka', 'Phone': '01772693406', 'flat': '6D', '2': '6D'}\n",
      "5.6\n"
     ]
    },
    {
     "data": {
      "text/plain": [
       "{'name': 'nayan',\n",
       " 'age': 26,\n",
       " 'height': 5.6,\n",
       " 'address': 'Dhaka',\n",
       " 'Phone': '01772693406',\n",
       " 'flat': '6D',\n",
       " '2': '6D'}"
      ]
     },
     "execution_count": 21,
     "metadata": {},
     "output_type": "execute_result"
    }
   ],
   "source": [
    "print(dr)\n",
    "print(dr.setdefault('height','6D'))\n",
    "dr"
   ]
  },
  {
   "cell_type": "code",
   "execution_count": 22,
   "metadata": {},
   "outputs": [
    {
     "data": {
      "text/plain": [
       "{'name': 'nayan',\n",
       " 'age': 26,\n",
       " 'height': 5.6,\n",
       " 'address': 'Dhaka',\n",
       " 'Phone': '01772693406',\n",
       " 'flat': '6D'}"
      ]
     },
     "execution_count": 22,
     "metadata": {},
     "output_type": "execute_result"
    }
   ],
   "source": [
    "del dr['2']\n",
    "dr"
   ]
  },
  {
   "cell_type": "code",
   "execution_count": 26,
   "metadata": {},
   "outputs": [
    {
     "name": "stdout",
     "output_type": "stream",
     "text": [
      "789\n"
     ]
    },
    {
     "data": {
      "text/plain": [
       "{'name': 'nayan', 'age': 26, 'height': 5.6, 'address': 'Dhaka'}"
      ]
     },
     "execution_count": 26,
     "metadata": {},
     "output_type": "execute_result"
    }
   ],
   "source": [
    "dr = {'name': 'nayan', 'age': 26, 'height': 5.6, 'address':'Dhaka'}\n",
    "print(dr.pop('phone','789'))\n",
    "dr"
   ]
  },
  {
   "cell_type": "code",
   "execution_count": 27,
   "metadata": {},
   "outputs": [
    {
     "name": "stdout",
     "output_type": "stream",
     "text": [
      "Dhaka\n"
     ]
    },
    {
     "data": {
      "text/plain": [
       "{'name': 'nayan', 'age': 26, 'height': 5.6}"
      ]
     },
     "execution_count": 27,
     "metadata": {},
     "output_type": "execute_result"
    }
   ],
   "source": [
    "dr = {'name': 'nayan', 'age': 26, 'height': 5.6, 'address':'Dhaka'}\n",
    "print(dr.pop('address','789'))\n",
    "dr"
   ]
  },
  {
   "cell_type": "code",
   "execution_count": 28,
   "metadata": {},
   "outputs": [
    {
     "name": "stdout",
     "output_type": "stream",
     "text": [
      "dict_values(['nayan', 26, 5.6, 'Dhaka'])\n",
      "dict_keys(['name', 'age', 'height', 'address'])\n"
     ]
    }
   ],
   "source": [
    "dr = {'name': 'nayan', 'age': 26, 'height': 5.6, 'address':'Dhaka'}\n",
    "print(dr.values())\n",
    "print(dr.keys())"
   ]
  },
  {
   "cell_type": "code",
   "execution_count": 29,
   "metadata": {},
   "outputs": [
    {
     "ename": "TypeError",
     "evalue": "update expected at most 1 argument, got 2",
     "output_type": "error",
     "traceback": [
      "\u001b[1;31m---------------------------------------------------------------------------\u001b[0m",
      "\u001b[1;31mTypeError\u001b[0m                                 Traceback (most recent call last)",
      "\u001b[1;32me:\\DS&A\\code\\Data_Collection\\dict.ipynb Cell 44\u001b[0m in \u001b[0;36m<cell line: 2>\u001b[1;34m()\u001b[0m\n\u001b[0;32m      <a href='vscode-notebook-cell:/e%3A/DS%26A/code/Data_Collection/dict.ipynb#X61sZmlsZQ%3D%3D?line=0'>1</a>\u001b[0m dr \u001b[39m=\u001b[39m {\u001b[39m'\u001b[39m\u001b[39mname\u001b[39m\u001b[39m'\u001b[39m: \u001b[39m'\u001b[39m\u001b[39mnayan\u001b[39m\u001b[39m'\u001b[39m, \u001b[39m'\u001b[39m\u001b[39mage\u001b[39m\u001b[39m'\u001b[39m: \u001b[39m26\u001b[39m, \u001b[39m'\u001b[39m\u001b[39mheight\u001b[39m\u001b[39m'\u001b[39m: \u001b[39m5.6\u001b[39m, \u001b[39m'\u001b[39m\u001b[39maddress\u001b[39m\u001b[39m'\u001b[39m:\u001b[39m'\u001b[39m\u001b[39mDhaka\u001b[39m\u001b[39m'\u001b[39m}\n\u001b[1;32m----> <a href='vscode-notebook-cell:/e%3A/DS%26A/code/Data_Collection/dict.ipynb#X61sZmlsZQ%3D%3D?line=1'>2</a>\u001b[0m \u001b[39mprint\u001b[39m(dr\u001b[39m.\u001b[39;49mupdate(\u001b[39m'\u001b[39;49m\u001b[39mname\u001b[39;49m\u001b[39m'\u001b[39;49m,\u001b[39m'\u001b[39;49m\u001b[39mashraf\u001b[39;49m\u001b[39m'\u001b[39;49m))\n\u001b[0;32m      <a href='vscode-notebook-cell:/e%3A/DS%26A/code/Data_Collection/dict.ipynb#X61sZmlsZQ%3D%3D?line=2'>3</a>\u001b[0m dr\n",
      "\u001b[1;31mTypeError\u001b[0m: update expected at most 1 argument, got 2"
     ]
    }
   ],
   "source": [
    "dr = {'name': 'nayan', 'age': 26, 'height': 5.6, 'address':'Dhaka'}\n",
    "print(dr.update('name','ashraf'))\n",
    "dr"
   ]
  },
  {
   "cell_type": "markdown",
   "metadata": {},
   "source": [
    "# Dictionary Operations"
   ]
  },
  {
   "cell_type": "code",
   "execution_count": 2,
   "metadata": {},
   "outputs": [
    {
     "name": "stdout",
     "output_type": "stream",
     "text": [
      "True\n",
      "False\n"
     ]
    }
   ],
   "source": [
    "dr = {'name': 'nayan', 'age': 26, 'height': 5.6, 'address':'Dhaka'}\n",
    "print('name' in dr)\n",
    "print('nayan' in dr)         # Time complexity is O(1)"
   ]
  },
  {
   "cell_type": "code",
   "execution_count": 4,
   "metadata": {},
   "outputs": [
    {
     "name": "stdout",
     "output_type": "stream",
     "text": [
      "True\n",
      "True\n"
     ]
    }
   ],
   "source": [
    "dr = {'name': 'nayan', 'age': 26, 'height': 5.6, 'address':'Dhaka'}\n",
    "print('nayan' in dr.values())\n",
    "print('Dhaka' in dr.values())   # Time complexity is O(1)"
   ]
  },
  {
   "cell_type": "code",
   "execution_count": 5,
   "metadata": {},
   "outputs": [
    {
     "name": "stdout",
     "output_type": "stream",
     "text": [
      "name\n",
      "age\n",
      "height\n",
      "address\n"
     ]
    }
   ],
   "source": [
    "dr = {'name': 'nayan', 'age': 26, 'height': 5.6, 'address':'Dhaka'}\n",
    "for k in dr:\n",
    "    print(k)"
   ]
  },
  {
   "cell_type": "code",
   "execution_count": 8,
   "metadata": {},
   "outputs": [
    {
     "name": "stdout",
     "output_type": "stream",
     "text": [
      "name : nayan\n",
      "age : 26\n",
      "height : 5.6\n",
      "address : Dhaka\n"
     ]
    }
   ],
   "source": [
    "dr = {'name': 'nayan', 'age': 26, 'height': 5.6, 'address':'Dhaka'}\n",
    "for k in dr:               # Time complexity is O(n)\n",
    "    print(k,':',dr[k])"
   ]
  },
  {
   "cell_type": "code",
   "execution_count": 25,
   "metadata": {},
   "outputs": [
    {
     "name": "stdout",
     "output_type": "stream",
     "text": [
      "True\n",
      "True\n"
     ]
    }
   ],
   "source": [
    "dr = {'name': False, 'age': False, 'height': False, 'address': True }\n",
    "print(all(dr))\n",
    "print(any(dr))"
   ]
  },
  {
   "cell_type": "code",
   "execution_count": 27,
   "metadata": {},
   "outputs": [
    {
     "name": "stdout",
     "output_type": "stream",
     "text": [
      "4\n"
     ]
    }
   ],
   "source": [
    "dr = {'name': 'nayan', 'age': 26, 'height': 5.6, 'address':'Dhaka'}\n",
    "print(len(dr.values()))"
   ]
  },
  {
   "cell_type": "code",
   "execution_count": 28,
   "metadata": {},
   "outputs": [
    {
     "name": "stdout",
     "output_type": "stream",
     "text": [
      "4\n"
     ]
    }
   ],
   "source": [
    "dr = {'name': 'nayan', 'age': 26, 'height': 5.6, 'address':'Dhaka'}\n",
    "print(len(dr))"
   ]
  },
  {
   "cell_type": "code",
   "execution_count": 29,
   "metadata": {},
   "outputs": [
    {
     "name": "stdout",
     "output_type": "stream",
     "text": [
      "['address', 'age', 'height', 'name']\n"
     ]
    }
   ],
   "source": [
    "dr = {'name': 'nayan', 'age': 26, 'height': 5.6, 'address':'Dhaka'}\n",
    "print(sorted(dr))"
   ]
  },
  {
   "cell_type": "code",
   "execution_count": 30,
   "metadata": {},
   "outputs": [
    {
     "name": "stdout",
     "output_type": "stream",
     "text": [
      "['name', 'height', 'age', 'address']\n"
     ]
    }
   ],
   "source": [
    "dr = {'name': 'nayan', 'age': 26, 'height': 5.6, 'address':'Dhaka'}\n",
    "print(sorted(dr, reverse = True))"
   ]
  },
  {
   "cell_type": "code",
   "execution_count": 38,
   "metadata": {},
   "outputs": [
    {
     "name": "stdout",
     "output_type": "stream",
     "text": [
      "['age', 'name', 'height', 'address']\n"
     ]
    }
   ],
   "source": [
    "dr = {'name': 'nayan', 'age': 26, 'height': 5.6, 'address':'Dhaka'}\n",
    "print(sorted(dr, key = len))"
   ]
  },
  {
   "cell_type": "code",
   "execution_count": 47,
   "metadata": {},
   "outputs": [
    {
     "data": {
      "text/plain": [
       "{'name': 'nayan', 'height': 5.11, 'address': 'Dhaka'}"
      ]
     },
     "execution_count": 47,
     "metadata": {},
     "output_type": "execute_result"
    }
   ],
   "source": [
    "# No duplicate keys in dictionary\n",
    "dr = {'name': 'nayan', 'height': 5.7, 'height': 5.11, 'address':'Dhaka'}\n",
    "dr"
   ]
  }
 ],
 "metadata": {
  "kernelspec": {
   "display_name": "Python 3.10.5 64-bit",
   "language": "python",
   "name": "python3"
  },
  "language_info": {
   "codemirror_mode": {
    "name": "ipython",
    "version": 3
   },
   "file_extension": ".py",
   "mimetype": "text/x-python",
   "name": "python",
   "nbconvert_exporter": "python",
   "pygments_lexer": "ipython3",
   "version": "3.10.5"
  },
  "orig_nbformat": 4,
  "vscode": {
   "interpreter": {
    "hash": "369f2c481f4da34e4445cda3fffd2e751bd1c4d706f27375911949ba6bb62e1c"
   }
  }
 },
 "nbformat": 4,
 "nbformat_minor": 2
}
