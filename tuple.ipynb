{
 "cells": [
  {
   "cell_type": "markdown",
   "metadata": {},
   "source": [
    "# Tuple Creation"
   ]
  },
  {
   "cell_type": "code",
   "execution_count": 1,
   "metadata": {},
   "outputs": [
    {
     "data": {
      "text/plain": [
       "tuple"
      ]
     },
     "execution_count": 1,
     "metadata": {},
     "output_type": "execute_result"
    }
   ],
   "source": [
    "nt = 'a','b','c',1,2,3\n",
    "type(nt)"
   ]
  },
  {
   "cell_type": "code",
   "execution_count": 4,
   "metadata": {},
   "outputs": [
    {
     "name": "stdout",
     "output_type": "stream",
     "text": [
      "<class 'tuple'>\n",
      "<class 'tuple'>\n",
      "<class 'str'>\n",
      "<class 'tuple'>\n"
     ]
    }
   ],
   "source": [
    "nt = ('a','b','c',1,2,3,4)\n",
    "print(type(nt))\n",
    "nt1 = 1,\n",
    "print(type(nt))\n",
    "nt1 = ('1')\n",
    "print(type(nt1))\n",
    "nt1 = ('1',)\n",
    "print(type(nt1))"
   ]
  },
  {
   "cell_type": "code",
   "execution_count": 5,
   "metadata": {},
   "outputs": [
    {
     "name": "stdout",
     "output_type": "stream",
     "text": [
      "<class 'tuple'>\n"
     ]
    },
    {
     "data": {
      "text/plain": [
       "('a', 'b', 'c', 'd', 'e', 'f')"
      ]
     },
     "execution_count": 5,
     "metadata": {},
     "output_type": "execute_result"
    }
   ],
   "source": [
    "tp = tuple('abcdef')\n",
    "print(type(tp))              # time complexity is O(1) and space complexity is O(n)\n",
    "tp"
   ]
  },
  {
   "cell_type": "markdown",
   "metadata": {},
   "source": [
    "# Accessing tuple elements"
   ]
  },
  {
   "cell_type": "code",
   "execution_count": 11,
   "metadata": {},
   "outputs": [
    {
     "name": "stdout",
     "output_type": "stream",
     "text": [
      "<class 'tuple'>\n",
      "3\n",
      "('a', 'b', 'c', 'd')\n",
      "('b', 'c', 'd', 1, 2, 3, 4)\n",
      "('a', 'b', 'c', 'd', 1, 2, 3, 4)\n"
     ]
    }
   ],
   "source": [
    "tp = ('a','b','c','d',1,2,3,4)\n",
    "print(type(tp))\n",
    "print(tp[-2])\n",
    "print(tp[:4])\n",
    "print(tp[1:])\n",
    "print(tp[:])"
   ]
  },
  {
   "cell_type": "code",
   "execution_count": 12,
   "metadata": {},
   "outputs": [
    {
     "ename": "TypeError",
     "evalue": "'tuple' object does not support item assignment",
     "output_type": "error",
     "traceback": [
      "\u001b[1;31m---------------------------------------------------------------------------\u001b[0m",
      "\u001b[1;31mTypeError\u001b[0m                                 Traceback (most recent call last)",
      "\u001b[1;32me:\\DS&A\\code\\tuple.ipynb Cell 7\u001b[0m in \u001b[0;36m<cell line: 1>\u001b[1;34m()\u001b[0m\n\u001b[1;32m----> <a href='vscode-notebook-cell:/e%3A/DS%26A/code/tuple.ipynb#W6sZmlsZQ%3D%3D?line=0'>1</a>\u001b[0m tp[\u001b[39m2\u001b[39;49m] \u001b[39m=\u001b[39m\u001b[39m'\u001b[39m\u001b[39mg\u001b[39m\u001b[39m'\u001b[39m\n",
      "\u001b[1;31mTypeError\u001b[0m: 'tuple' object does not support item assignment"
     ]
    }
   ],
   "source": [
    "tp[2] ='g'"
   ]
  },
  {
   "cell_type": "code",
   "execution_count": 13,
   "metadata": {},
   "outputs": [
    {
     "name": "stdout",
     "output_type": "stream",
     "text": [
      "a\n",
      "b\n",
      "c\n",
      "d\n",
      "1\n",
      "2\n",
      "3\n",
      "4\n"
     ]
    }
   ],
   "source": [
    "tp = ('a','b','c','d',1,2,3,4)\n",
    "for i in tp:\n",
    "    print(i)"
   ]
  },
  {
   "cell_type": "code",
   "execution_count": 14,
   "metadata": {},
   "outputs": [
    {
     "name": "stdout",
     "output_type": "stream",
     "text": [
      "a\n",
      "b\n",
      "c\n",
      "d\n",
      "1\n",
      "2\n",
      "3\n",
      "4\n"
     ]
    }
   ],
   "source": [
    "tp = ('a','b','c','d',1,2,3,4)\n",
    "for i in range(len(tp)):          # time complexity is O(n) and space complexity O(1)\n",
    "    print(tp[i])"
   ]
  },
  {
   "cell_type": "markdown",
   "metadata": {},
   "source": [
    "# Searching element in tuple"
   ]
  },
  {
   "cell_type": "code",
   "execution_count": 16,
   "metadata": {},
   "outputs": [
    {
     "name": "stdout",
     "output_type": "stream",
     "text": [
      "True\n",
      "False\n"
     ]
    }
   ],
   "source": [
    "tp = ('a','b','c','d',1,2,3,4)\n",
    "print(\"b\" in tp)\n",
    "print(\"f\" in tp)"
   ]
  },
  {
   "cell_type": "code",
   "execution_count": 19,
   "metadata": {},
   "outputs": [
    {
     "name": "stdout",
     "output_type": "stream",
     "text": [
      "('d',)\n",
      "The element doesn't exist\n"
     ]
    }
   ],
   "source": [
    "def searchtp(ts,v):\n",
    "    for i in ts:\n",
    "        if i == v:\n",
    "            return ts.index(v)\n",
    "            break\n",
    "        else:\n",
    "            print(\"The element doesn't exist\")\n",
    "for i in range(5):\n",
    "    t = tuple(input(\"Enter value\"))\n",
    "print(t)   \n",
    "a = searchtp(t,'ashraf')\n",
    "a     \n",
    "\n",
    "        "
   ]
  },
  {
   "cell_type": "code",
   "execution_count": 23,
   "metadata": {},
   "outputs": [
    {
     "data": {
      "text/plain": [
       "4"
      ]
     },
     "execution_count": 23,
     "metadata": {},
     "output_type": "execute_result"
    }
   ],
   "source": [
    "def searchtp(ts,v):\n",
    "    for i in ts:                              # T.C is O(n) and S.C is O(1)\n",
    "        if i == v:                            # T.C is O(1) and S.C is O(1)\n",
    "            return ts.index(v)                # T.C is O(1) and S.C is O(1)\n",
    "            break\n",
    "    else:\n",
    "        return \"The element doesn't exist\"     # T.C is O(1) and S.C is O(1)\n",
    "t = ('a','b','c','d',1,2,3,4) \n",
    "a = searchtp(t,1)     \n",
    "a     "
   ]
  },
  {
   "cell_type": "markdown",
   "metadata": {},
   "source": [
    "# Tuple Operations and functions"
   ]
  },
  {
   "cell_type": "code",
   "execution_count": 28,
   "metadata": {},
   "outputs": [
    {
     "name": "stdout",
     "output_type": "stream",
     "text": [
      "3064396123568\n",
      "(1, 2, 3, 4, 3, 4, 5, 6)\n",
      "(1, 2, 3, 4, 1, 2, 3, 4, 1, 2, 3, 4, 1, 2, 3, 4)\n"
     ]
    }
   ],
   "source": [
    "t = (1,2,3,4)\n",
    "print(id(t))\n",
    "t2 = (3,4,5,6)\n",
    "t1 = t + t2\n",
    "print(t1)\n",
    "print(t * 4)"
   ]
  },
  {
   "cell_type": "code",
   "execution_count": 34,
   "metadata": {},
   "outputs": [
    {
     "name": "stdout",
     "output_type": "stream",
     "text": [
      "2\n",
      "3\n",
      "8\n",
      "6\n",
      "1\n"
     ]
    }
   ],
   "source": [
    "t1\n",
    "print(t1.count(3))\n",
    "print(t1.index(4))\n",
    "print(len(t1))\n",
    "print(max(t1))\n",
    "print(min(t1))"
   ]
  },
  {
   "cell_type": "code",
   "execution_count": 36,
   "metadata": {},
   "outputs": [
    {
     "data": {
      "text/plain": [
       "tuple"
      ]
     },
     "execution_count": 36,
     "metadata": {},
     "output_type": "execute_result"
    }
   ],
   "source": [
    "t = tuple([1,2,3,4])    # converting list to tuple\n",
    "type(t)"
   ]
  },
  {
   "cell_type": "code",
   "execution_count": 42,
   "metadata": {},
   "outputs": [
    {
     "name": "stdout",
     "output_type": "stream",
     "text": [
      "3064364020096\n",
      "[1, 2, 7, 4, 5]\n",
      "3064364020096\n",
      "[1, 7, 4, 5]\n",
      "3064364020096\n"
     ]
    }
   ],
   "source": [
    "list1 = [1,2,3,4,5]\n",
    "print(id(list1))\n",
    "list1[2] = 7\n",
    "print(list1)\n",
    "print(id(list1))\n",
    "del list1[1]\n",
    "print(list1)\n",
    "print(id(list1))\n",
    "\n"
   ]
  },
  {
   "cell_type": "code",
   "execution_count": 46,
   "metadata": {},
   "outputs": [
    {
     "name": "stdout",
     "output_type": "stream",
     "text": [
      "3064394460720\n",
      "(1, 2, 3, 4, 5)\n"
     ]
    },
    {
     "ename": "TypeError",
     "evalue": "'tuple' object does not support item assignment",
     "output_type": "error",
     "traceback": [
      "\u001b[1;31m---------------------------------------------------------------------------\u001b[0m",
      "\u001b[1;31mTypeError\u001b[0m                                 Traceback (most recent call last)",
      "\u001b[1;32me:\\DS&A\\code\\tuple.ipynb Cell 19\u001b[0m in \u001b[0;36m<cell line: 4>\u001b[1;34m()\u001b[0m\n\u001b[0;32m      <a href='vscode-notebook-cell:/e%3A/DS%26A/code/tuple.ipynb#X24sZmlsZQ%3D%3D?line=1'>2</a>\u001b[0m \u001b[39mprint\u001b[39m(\u001b[39mid\u001b[39m(tp))\n\u001b[0;32m      <a href='vscode-notebook-cell:/e%3A/DS%26A/code/tuple.ipynb#X24sZmlsZQ%3D%3D?line=2'>3</a>\u001b[0m \u001b[39mprint\u001b[39m(tp)\n\u001b[1;32m----> <a href='vscode-notebook-cell:/e%3A/DS%26A/code/tuple.ipynb#X24sZmlsZQ%3D%3D?line=3'>4</a>\u001b[0m tp[\u001b[39m2\u001b[39;49m] \u001b[39m=\u001b[39m \u001b[39m7\u001b[39m\n\u001b[0;32m      <a href='vscode-notebook-cell:/e%3A/DS%26A/code/tuple.ipynb#X24sZmlsZQ%3D%3D?line=4'>5</a>\u001b[0m \u001b[39mprint\u001b[39m(tp)\n\u001b[0;32m      <a href='vscode-notebook-cell:/e%3A/DS%26A/code/tuple.ipynb#X24sZmlsZQ%3D%3D?line=5'>6</a>\u001b[0m \u001b[39mprint\u001b[39m(\u001b[39mid\u001b[39m(tp))\n",
      "\u001b[1;31mTypeError\u001b[0m: 'tuple' object does not support item assignment"
     ]
    }
   ],
   "source": [
    "tp = (1,2,3,4,5)\n",
    "print(id(tp))\n",
    "print(tp)\n",
    "tp[2] = 7\n",
    "print(tp)\n",
    "print(id(tp))\n",
    "del tp[1]\n",
    "print(tp)\n",
    "print(id(tp))"
   ]
  },
  {
   "cell_type": "code",
   "execution_count": 1,
   "metadata": {},
   "outputs": [
    {
     "ename": "TypeError",
     "evalue": "'tuple' object doesn't support item deletion",
     "output_type": "error",
     "traceback": [
      "\u001b[1;31m---------------------------------------------------------------------------\u001b[0m",
      "\u001b[1;31mTypeError\u001b[0m                                 Traceback (most recent call last)",
      "\u001b[1;32me:\\DS&A\\code\\Data_Collection\\tuple.ipynb Cell 20\u001b[0m in \u001b[0;36m<cell line: 2>\u001b[1;34m()\u001b[0m\n\u001b[0;32m      <a href='vscode-notebook-cell:/e%3A/DS%26A/code/Data_Collection/tuple.ipynb#X25sZmlsZQ%3D%3D?line=0'>1</a>\u001b[0m tp \u001b[39m=\u001b[39m (\u001b[39m1\u001b[39m,\u001b[39m2\u001b[39m,\u001b[39m3\u001b[39m,\u001b[39m4\u001b[39m,\u001b[39m5\u001b[39m)\n\u001b[1;32m----> <a href='vscode-notebook-cell:/e%3A/DS%26A/code/Data_Collection/tuple.ipynb#X25sZmlsZQ%3D%3D?line=1'>2</a>\u001b[0m \u001b[39mdel\u001b[39;00m tp[\u001b[39m3\u001b[39m]\n",
      "\u001b[1;31mTypeError\u001b[0m: 'tuple' object doesn't support item deletion"
     ]
    }
   ],
   "source": [
    "tp = (1,2,3,4,5)\n",
    "del tp[3]"
   ]
  },
  {
   "cell_type": "code",
   "execution_count": 3,
   "metadata": {},
   "outputs": [
    {
     "ename": "NameError",
     "evalue": "name 'tp' is not defined",
     "output_type": "error",
     "traceback": [
      "\u001b[1;31m---------------------------------------------------------------------------\u001b[0m",
      "\u001b[1;31mNameError\u001b[0m                                 Traceback (most recent call last)",
      "\u001b[1;32me:\\DS&A\\code\\Data_Collection\\tuple.ipynb Cell 21\u001b[0m in \u001b[0;36m<cell line: 3>\u001b[1;34m()\u001b[0m\n\u001b[0;32m      <a href='vscode-notebook-cell:/e%3A/DS%26A/code/Data_Collection/tuple.ipynb#X26sZmlsZQ%3D%3D?line=0'>1</a>\u001b[0m tp \u001b[39m=\u001b[39m (\u001b[39m1\u001b[39m,\u001b[39m2\u001b[39m,\u001b[39m3\u001b[39m,\u001b[39m4\u001b[39m,\u001b[39m5\u001b[39m)\n\u001b[0;32m      <a href='vscode-notebook-cell:/e%3A/DS%26A/code/Data_Collection/tuple.ipynb#X26sZmlsZQ%3D%3D?line=1'>2</a>\u001b[0m \u001b[39mdel\u001b[39;00m tp\n\u001b[1;32m----> <a href='vscode-notebook-cell:/e%3A/DS%26A/code/Data_Collection/tuple.ipynb#X26sZmlsZQ%3D%3D?line=2'>3</a>\u001b[0m \u001b[39mprint\u001b[39m(tp)\n",
      "\u001b[1;31mNameError\u001b[0m: name 'tp' is not defined"
     ]
    }
   ],
   "source": [
    "tp = (1,2,3,4,5)\n",
    "del tp                          # Deleted whole tuple\n",
    "print(tp)"
   ]
  },
  {
   "cell_type": "markdown",
   "metadata": {},
   "source": [
    "# Tuple vs List"
   ]
  },
  {
   "cell_type": "code",
   "execution_count": 14,
   "metadata": {},
   "outputs": [
    {
     "name": "stdout",
     "output_type": "stream",
     "text": [
      "1295745057216\n"
     ]
    }
   ],
   "source": [
    "l1 = [1,2,3,'a','b','c','d',4.67,8.56]\n",
    "t1 = (1,2,3,4,'a','b','c',4.5,7.9)\n",
    "print(id(l1))"
   ]
  },
  {
   "cell_type": "code",
   "execution_count": 17,
   "metadata": {},
   "outputs": [
    {
     "name": "stdout",
     "output_type": "stream",
     "text": [
      "b\n",
      "1295745057216\n"
     ]
    }
   ],
   "source": [
    "print(l1[4])                   # It executes because list is mutable\n",
    "del l1[5]\n",
    "print(id(l1))"
   ]
  },
  {
   "cell_type": "code",
   "execution_count": 16,
   "metadata": {},
   "outputs": [
    {
     "data": {
      "text/plain": [
       "[1, 2, 3, 'a', 'b', 'd', 4.67, 8.56]"
      ]
     },
     "execution_count": 16,
     "metadata": {},
     "output_type": "execute_result"
    }
   ],
   "source": [
    "l1"
   ]
  },
  {
   "cell_type": "code",
   "execution_count": 19,
   "metadata": {},
   "outputs": [
    {
     "name": "stdout",
     "output_type": "stream",
     "text": [
      "a\n"
     ]
    },
    {
     "ename": "TypeError",
     "evalue": "'tuple' object doesn't support item deletion",
     "output_type": "error",
     "traceback": [
      "\u001b[1;31m---------------------------------------------------------------------------\u001b[0m",
      "\u001b[1;31mTypeError\u001b[0m                                 Traceback (most recent call last)",
      "\u001b[1;32me:\\DS&A\\code\\Data_Collection\\tuple.ipynb Cell 26\u001b[0m in \u001b[0;36m<cell line: 3>\u001b[1;34m()\u001b[0m\n\u001b[0;32m      <a href='vscode-notebook-cell:/e%3A/DS%26A/code/Data_Collection/tuple.ipynb#X35sZmlsZQ%3D%3D?line=0'>1</a>\u001b[0m t1 \u001b[39m=\u001b[39m (\u001b[39m1\u001b[39m,\u001b[39m2\u001b[39m,\u001b[39m3\u001b[39m,\u001b[39m4\u001b[39m,\u001b[39m'\u001b[39m\u001b[39ma\u001b[39m\u001b[39m'\u001b[39m,\u001b[39m'\u001b[39m\u001b[39mb\u001b[39m\u001b[39m'\u001b[39m,\u001b[39m'\u001b[39m\u001b[39mc\u001b[39m\u001b[39m'\u001b[39m,\u001b[39m4.5\u001b[39m,\u001b[39m7.9\u001b[39m)\n\u001b[0;32m      <a href='vscode-notebook-cell:/e%3A/DS%26A/code/Data_Collection/tuple.ipynb#X35sZmlsZQ%3D%3D?line=1'>2</a>\u001b[0m \u001b[39mprint\u001b[39m(t1[\u001b[39m4\u001b[39m]) \n\u001b[1;32m----> <a href='vscode-notebook-cell:/e%3A/DS%26A/code/Data_Collection/tuple.ipynb#X35sZmlsZQ%3D%3D?line=2'>3</a>\u001b[0m \u001b[39mdel\u001b[39;00m t1[\u001b[39m5\u001b[39m]\n",
      "\u001b[1;31mTypeError\u001b[0m: 'tuple' object doesn't support item deletion"
     ]
    }
   ],
   "source": [
    "t1 = (1,2,3,4,'a','b','c',4.5,7.9)        \n",
    "print(t1[4])                             # It can't execute because tuple is immutable\n",
    "del t1[5]"
   ]
  },
  {
   "cell_type": "code",
   "execution_count": 21,
   "metadata": {},
   "outputs": [
    {
     "ename": "NameError",
     "evalue": "name 't1' is not defined",
     "output_type": "error",
     "traceback": [
      "\u001b[1;31m---------------------------------------------------------------------------\u001b[0m",
      "\u001b[1;31mNameError\u001b[0m                                 Traceback (most recent call last)",
      "\u001b[1;32me:\\DS&A\\code\\Data_Collection\\tuple.ipynb Cell 27\u001b[0m in \u001b[0;36m<cell line: 1>\u001b[1;34m()\u001b[0m\n\u001b[1;32m----> <a href='vscode-notebook-cell:/e%3A/DS%26A/code/Data_Collection/tuple.ipynb#X36sZmlsZQ%3D%3D?line=0'>1</a>\u001b[0m \u001b[39mdel\u001b[39;00m t1\n\u001b[0;32m      <a href='vscode-notebook-cell:/e%3A/DS%26A/code/Data_Collection/tuple.ipynb#X36sZmlsZQ%3D%3D?line=1'>2</a>\u001b[0m t1\n",
      "\u001b[1;31mNameError\u001b[0m: name 't1' is not defined"
     ]
    }
   ],
   "source": [
    "del t1\n",
    "t1"
   ]
  },
  {
   "cell_type": "code",
   "execution_count": 12,
   "metadata": {},
   "outputs": [
    {
     "name": "stdout",
     "output_type": "stream",
     "text": [
      "1295745096192\n"
     ]
    }
   ],
   "source": [
    "l1 = [4,6,8,9,'n','o','p']           # another list\n",
    "print(id(l1))"
   ]
  },
  {
   "cell_type": "code",
   "execution_count": 31,
   "metadata": {},
   "outputs": [
    {
     "name": "stdout",
     "output_type": "stream",
     "text": [
      "[(1, 2), (3, 4), ('a', 'b'), (3.45, 6.89)]\n",
      "<class 'list'>\n",
      "<class 'tuple'>\n"
     ]
    },
    {
     "ename": "TypeError",
     "evalue": "'tuple' object does not support item assignment",
     "output_type": "error",
     "traceback": [
      "\u001b[1;31m---------------------------------------------------------------------------\u001b[0m",
      "\u001b[1;31mTypeError\u001b[0m                                 Traceback (most recent call last)",
      "\u001b[1;32me:\\DS&A\\code\\Data_Collection\\tuple.ipynb Cell 29\u001b[0m in \u001b[0;36m<cell line: 5>\u001b[1;34m()\u001b[0m\n\u001b[0;32m      <a href='vscode-notebook-cell:/e%3A/DS%26A/code/Data_Collection/tuple.ipynb#X40sZmlsZQ%3D%3D?line=2'>3</a>\u001b[0m \u001b[39mprint\u001b[39m(\u001b[39mtype\u001b[39m(ls))\n\u001b[0;32m      <a href='vscode-notebook-cell:/e%3A/DS%26A/code/Data_Collection/tuple.ipynb#X40sZmlsZQ%3D%3D?line=3'>4</a>\u001b[0m \u001b[39mprint\u001b[39m(\u001b[39mtype\u001b[39m(ls[\u001b[39m2\u001b[39m]))\n\u001b[1;32m----> <a href='vscode-notebook-cell:/e%3A/DS%26A/code/Data_Collection/tuple.ipynb#X40sZmlsZQ%3D%3D?line=4'>5</a>\u001b[0m ls[\u001b[39m1\u001b[39;49m][\u001b[39m0\u001b[39;49m]\u001b[39m=\u001b[39m\u001b[39m5\u001b[39m\n\u001b[0;32m      <a href='vscode-notebook-cell:/e%3A/DS%26A/code/Data_Collection/tuple.ipynb#X40sZmlsZQ%3D%3D?line=5'>6</a>\u001b[0m \u001b[39mprint\u001b[39m(\u001b[39mtype\u001b[39m(ls[\u001b[39m2\u001b[39m][\u001b[39m1\u001b[39m]))\n",
      "\u001b[1;31mTypeError\u001b[0m: 'tuple' object does not support item assignment"
     ]
    }
   ],
   "source": [
    "# tuple in a list\n",
    "ls = [(1,2),(3,4),('a','b'),(3.45,6.89)]\n",
    "print(ls)\n",
    "print(type(ls))\n",
    "print(type(ls[2]))\n",
    "ls[1][0]=5\n",
    "print(type(ls[2][1]))             # because tuple is immutable"
   ]
  },
  {
   "cell_type": "code",
   "execution_count": 32,
   "metadata": {},
   "outputs": [
    {
     "name": "stdout",
     "output_type": "stream",
     "text": [
      "([1, 2], [3, 4], [5, 6], ['a', 'b'], ['c', 'd'])\n",
      "<class 'list'>\n",
      "1295744479360\n",
      "1295744479360\n",
      "([1, 2], [9, 4], [5, 6], ['a', 'b'], ['c', 'd'])\n"
     ]
    }
   ],
   "source": [
    "# list in a tuple\n",
    "tup =([1,2],[3,4],[5,6],['a','b'],['c','d'])\n",
    "print(tup)\n",
    "print(type(tup[1]))\n",
    "print(id(tup[1]))\n",
    "tup[1][0]=9                         # Because list is mutable\n",
    "print(id(tup[1]))\n",
    "print(tup)"
   ]
  }
 ],
 "metadata": {
  "kernelspec": {
   "display_name": "Python 3.10.5 64-bit",
   "language": "python",
   "name": "python3"
  },
  "language_info": {
   "codemirror_mode": {
    "name": "ipython",
    "version": 3
   },
   "file_extension": ".py",
   "mimetype": "text/x-python",
   "name": "python",
   "nbconvert_exporter": "python",
   "pygments_lexer": "ipython3",
   "version": "3.10.5"
  },
  "orig_nbformat": 4,
  "vscode": {
   "interpreter": {
    "hash": "369f2c481f4da34e4445cda3fffd2e751bd1c4d706f27375911949ba6bb62e1c"
   }
  }
 },
 "nbformat": 4,
 "nbformat_minor": 2
}
