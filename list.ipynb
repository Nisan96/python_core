{
 "cells": [
  {
   "cell_type": "markdown",
   "metadata": {},
   "source": [
    "# Accessing/Traversing a list"
   ]
  },
  {
   "cell_type": "code",
   "execution_count": 1,
   "metadata": {},
   "outputs": [],
   "source": [
    "nl = [1,5,8.7,['ashraf',27],[5.8,7.9],'rumy']"
   ]
  },
  {
   "cell_type": "code",
   "execution_count": 2,
   "metadata": {},
   "outputs": [
    {
     "name": "stdout",
     "output_type": "stream",
     "text": [
      "[1, 5, 8.7, ['ashraf', 27], [5.8, 7.9], 'rumy']\n"
     ]
    }
   ],
   "source": [
    "print(nl)"
   ]
  },
  {
   "cell_type": "code",
   "execution_count": 3,
   "metadata": {},
   "outputs": [
    {
     "data": {
      "text/plain": [
       "[]"
      ]
     },
     "execution_count": 3,
     "metadata": {},
     "output_type": "execute_result"
    }
   ],
   "source": [
    "empty = []\n",
    "empty"
   ]
  },
  {
   "cell_type": "code",
   "execution_count": 11,
   "metadata": {},
   "outputs": [
    {
     "data": {
      "text/plain": [
       "True"
      ]
     },
     "execution_count": 11,
     "metadata": {},
     "output_type": "execute_result"
    }
   ],
   "source": [
    "sl = ['milk','cheese','butter','brokly','cucumber']\n",
    "p = 'milk' in sl\n",
    "p"
   ]
  },
  {
   "cell_type": "code",
   "execution_count": 5,
   "metadata": {},
   "outputs": [
    {
     "name": "stdout",
     "output_type": "stream",
     "text": [
      "milk+\n",
      "cheese+\n",
      "butter+\n",
      "brokly+\n",
      "cucumber+\n"
     ]
    }
   ],
   "source": [
    "sl = ['milk','cheese','butter','brokly','cucumber']\n",
    "for i in range(len(sl)):\n",
    "    sl[i] = sl[i] + '+'\n",
    "    print(sl[i])\n"
   ]
  },
  {
   "cell_type": "code",
   "execution_count": 10,
   "metadata": {},
   "outputs": [],
   "source": [
    "empty = []\n",
    "for i in empty:\n",
    "    print(\"I am empty\")"
   ]
  },
  {
   "cell_type": "code",
   "execution_count": 19,
   "metadata": {},
   "outputs": [
    {
     "data": {
      "text/plain": [
       "['cucumber', 'brokly', 'butter', 'fish', 'milk']"
      ]
     },
     "execution_count": 19,
     "metadata": {},
     "output_type": "execute_result"
    }
   ],
   "source": [
    "sl = ['milk','cheese','butter','brokly','cucumber']\n",
    "sl[-4] = 'fish'\n",
    "sl[-5:0:1]\n",
    "sl[-1:-6:-1]\n"
   ]
  },
  {
   "cell_type": "code",
   "execution_count": 10,
   "metadata": {},
   "outputs": [
    {
     "name": "stdout",
     "output_type": "stream",
     "text": [
      "1\n",
      "<class 'int'>\n",
      "5\n",
      "<class 'int'>\n",
      "8.7\n",
      "<class 'float'>\n",
      "['ashraf', 27]\n",
      "<class 'list'>\n",
      "ashraf\n",
      "27\n",
      "[5.8, 7.9]\n",
      "<class 'list'>\n",
      "5.8\n",
      "7.9\n",
      "rumy\n",
      "<class 'str'>\n"
     ]
    }
   ],
   "source": [
    "nl = [1,5,8.7,['ashraf',27],[5.8,7.9],'rumy']\n",
    "for i in nl:\n",
    "    print(i)\n",
    "    print(type(i))\n",
    "    if type(i) == list:\n",
    "        for j in i:\n",
    "            print(j)\n",
    "\n"
   ]
  },
  {
   "cell_type": "markdown",
   "metadata": {},
   "source": [
    "# Update/Insert a list"
   ]
  },
  {
   "cell_type": "code",
   "execution_count": 21,
   "metadata": {},
   "outputs": [
    {
     "data": {
      "text/plain": [
       "[1, 2, 3, 11, 14, 6, 7]"
      ]
     },
     "execution_count": 21,
     "metadata": {},
     "output_type": "execute_result"
    }
   ],
   "source": [
    "mylist = [1,2,3,4,5,6,7]\n",
    "mylist[4] = 14                        # o(1) time complexity and space complexity\n",
    "mylist[3] = 11\n",
    "mylist"
   ]
  },
  {
   "cell_type": "code",
   "execution_count": 22,
   "metadata": {},
   "outputs": [
    {
     "name": "stdout",
     "output_type": "stream",
     "text": [
      "[5, 7, 89, 3.78, 'ashraf', 'nisan']\n",
      "2842955290944\n",
      "[5, 7, 89, 27, 3.78, 'ashraf', 'nisan']\n",
      "2842955290944\n"
     ]
    }
   ],
   "source": [
    "list = [5,7,89,3.78,'ashraf','nisan']\n",
    "print(list)\n",
    "print(id(list))\n",
    "list.insert(3,27)                # time consuming operation(o(n) time complexity)\n",
    "print(list)\n",
    "print(id(list))"
   ]
  },
  {
   "cell_type": "code",
   "execution_count": 26,
   "metadata": {},
   "outputs": [
    {
     "data": {
      "text/plain": [
       "[5, 7, 89, 27, 3.78, 'ashraf', 'nisan', '5.6\"', '5.6\"', '5.6']"
      ]
     },
     "execution_count": 26,
     "metadata": {},
     "output_type": "execute_result"
    }
   ],
   "source": [
    "list.append('5.6')           # o(1) time and space complexity\n",
    "list"
   ]
  },
  {
   "cell_type": "code",
   "execution_count": 58,
   "metadata": {},
   "outputs": [
    {
     "name": "stdout",
     "output_type": "stream",
     "text": [
      "2842955388544\n",
      "2842955388544\n"
     ]
    },
    {
     "data": {
      "text/plain": [
       "[27, 67, 34, 23, 45, 18, '5.6', '5.3', '5.8']"
      ]
     },
     "execution_count": 58,
     "metadata": {},
     "output_type": "execute_result"
    }
   ],
   "source": [
    "ml = [27,67,34,23,45,18]\n",
    "print(id(ml))\n",
    "nl = ['5.6','5.3','5.8']\n",
    "ml.extend(nl)                     # o(n) time and space complexity\n",
    "print(id(ml))\n",
    "ml"
   ]
  },
  {
   "cell_type": "code",
   "execution_count": 33,
   "metadata": {},
   "outputs": [
    {
     "name": "stdout",
     "output_type": "stream",
     "text": [
      "[12, 13, 45, 18, '5.6', '5.3', '5.8']\n",
      "2842955161600\n",
      "2842955161600\n"
     ]
    },
    {
     "data": {
      "text/plain": [
       "[12, 13, 18, '5.6', '5.3', '5.8']"
      ]
     },
     "execution_count": 33,
     "metadata": {},
     "output_type": "execute_result"
    }
   ],
   "source": [
    "print(ml)\n",
    "print(id(ml))\n",
    "ml[:3] = [12,13]\n",
    "print(id(ml))\n",
    "ml"
   ]
  },
  {
   "cell_type": "markdown",
   "metadata": {},
   "source": [
    "# Deletion of a list"
   ]
  },
  {
   "cell_type": "code",
   "execution_count": 57,
   "metadata": {},
   "outputs": [
    {
     "name": "stdout",
     "output_type": "stream",
     "text": [
      "2842955224512\n",
      "4\n",
      "[1, 2, 3, 'a', 'b', 'c', 'd', 'e', 'f']\n",
      "f\n",
      "2842955224512\n",
      "[1, 2, 3, 'a', 'b', 'c', 'd', 'e']\n"
     ]
    }
   ],
   "source": [
    "list1 = [1,2,3,4,'a','b','c','d','e','f']\n",
    "print(id(list1))\n",
    "print(list1.pop(3))            # time complexity is o(n) and space complexity is o(1)\n",
    "print(list1)\n",
    "print(list1.pop())             # time complexity and space complexity is o(1)\n",
    "print(id(list1))\n",
    "print(list1)"
   ]
  },
  {
   "cell_type": "code",
   "execution_count": 56,
   "metadata": {},
   "outputs": [
    {
     "name": "stdout",
     "output_type": "stream",
     "text": [
      "2842955346688\n",
      "[1, 2, 3, 4, 'a', 'c', 'd', 'e', 'f']\n",
      "2842955346688\n",
      "[1, 2, 3, 4, 'd', 'e', 'f']\n"
     ]
    }
   ],
   "source": [
    "list1 = [1,2,3,4,'a','b','c','d','e','f']\n",
    "print(id(list1))\n",
    "del list1[5]\n",
    "print(list1)\n",
    "del list1[4:6]               # time complexity is o(n) and space complexity is o(1)\n",
    "print(id(list1))             \n",
    "print(list1)"
   ]
  },
  {
   "cell_type": "code",
   "execution_count": 55,
   "metadata": {},
   "outputs": [
    {
     "name": "stdout",
     "output_type": "stream",
     "text": [
      "2842918757056\n",
      "None\n",
      "2842918757056\n",
      "[1, 2, 3, 2, 'a', 'a', 'd', 'e', 'c']\n"
     ]
    }
   ],
   "source": [
    "list2 = [1,2,3,2,'a','a','c','d','e','c']\n",
    "print(id(list2)) \n",
    "print(list2.remove('c'))       # time complexity is o(n) and space complexity is o(1)\n",
    "print(id(list2))     \n",
    "print(list2)"
   ]
  },
  {
   "cell_type": "markdown",
   "metadata": {},
   "source": [
    "# Seraching element in a list"
   ]
  },
  {
   "cell_type": "code",
   "execution_count": 43,
   "metadata": {},
   "outputs": [
    {
     "name": "stdout",
     "output_type": "stream",
     "text": [
      "value is not present in list\n"
     ]
    }
   ],
   "source": [
    "s = [10,20,30,40,50,60,70,80,90]\n",
    "i = int(input(\"Search an int value:\"))\n",
    "if i in s:\n",
    "    print(s.index(i))\n",
    "else:\n",
    "    print(\"value is not present in list\")"
   ]
  },
  {
   "cell_type": "code",
   "execution_count": 44,
   "metadata": {},
   "outputs": [
    {
     "data": {
      "text/plain": [
       "False"
      ]
     },
     "execution_count": 44,
     "metadata": {},
     "output_type": "execute_result"
    }
   ],
   "source": [
    "s = [10,20,30,40,50,60,70,80,90]\n",
    "100 in s"
   ]
  },
  {
   "cell_type": "code",
   "execution_count": 53,
   "metadata": {},
   "outputs": [
    {
     "name": "stdout",
     "output_type": "stream",
     "text": [
      "8\n"
     ]
    }
   ],
   "source": [
    "\n",
    "s = [10,20,30,40,50,60,70,80,90,100]           \n",
    "j = int(input(\"search a int value:\"))\n",
    "def searchinlist(s,v):\n",
    "    for i in s:                   # time complexity is o(n)\n",
    "        if i == v:                # time complexity is o(1)\n",
    "            return s.index(v)     # time complexity is o(1)\n",
    "    else:\n",
    "        return \"The value doesn't exist in this list\"          \n",
    "a = searchinlist(s,j)\n",
    "print(a)                     "
   ]
  },
  {
   "cell_type": "markdown",
   "metadata": {},
   "source": [
    "# List Operations/Function"
   ]
  },
  {
   "cell_type": "code",
   "execution_count": 54,
   "metadata": {},
   "outputs": [
    {
     "name": "stdout",
     "output_type": "stream",
     "text": [
      "2842955952576\n",
      "2842955811392\n",
      "[1, 2, 3, 4, 5, 6, 7, 8]\n"
     ]
    }
   ],
   "source": [
    "a = [1,2,3,4]\n",
    "print(id(a))\n",
    "b = [5,6,7,8]\n",
    "a = a + b\n",
    "print(id(a))\n",
    "print(a)"
   ]
  },
  {
   "cell_type": "code",
   "execution_count": 59,
   "metadata": {},
   "outputs": [
    {
     "name": "stdout",
     "output_type": "stream",
     "text": [
      "2842955808832\n",
      "2842955680448\n",
      "[1, 3, 6, 1, 3, 6, 1, 3, 6, 1, 3, 6, 1, 3, 6]\n"
     ]
    }
   ],
   "source": [
    "a = [1,3,6]\n",
    "print(id(a))\n",
    "a = a * 5\n",
    "print(id(a))\n",
    "print(a)"
   ]
  },
  {
   "cell_type": "code",
   "execution_count": 67,
   "metadata": {},
   "outputs": [
    {
     "name": "stdout",
     "output_type": "stream",
     "text": [
      "2842923321728\n",
      "[1, 3, 6, 1, 3, 6, 1, 3, 6, 1, 3, 6, 1, 3, 6]\n",
      "2842923321728\n"
     ]
    }
   ],
   "source": [
    "a = [1,3,6]\n",
    "print(id(a))\n",
    "print(a * 5)\n",
    "print(id(a))\n"
   ]
  },
  {
   "cell_type": "code",
   "execution_count": 63,
   "metadata": {},
   "outputs": [
    {
     "name": "stdout",
     "output_type": "stream",
     "text": [
      "10\n",
      "100\n",
      "10\n",
      "550\n",
      "90\n"
     ]
    },
    {
     "data": {
      "text/plain": [
       "55.0"
      ]
     },
     "execution_count": 63,
     "metadata": {},
     "output_type": "execute_result"
    }
   ],
   "source": [
    "s = [10,20,30,40,50,60,70,80,90,100]\n",
    "print(len(s))\n",
    "print(max(s))\n",
    "print(min(s))\n",
    "print(sum(s))\n",
    "print(sum(s[1:4]))\n",
    "avg = sum(s)/len(s)\n",
    "avg"
   ]
  },
  {
   "cell_type": "code",
   "execution_count": 65,
   "metadata": {},
   "outputs": [
    {
     "name": "stdout",
     "output_type": "stream",
     "text": [
      "3.5\n",
      "[1.0, 2.0, 3.0, 4.0, 5.0, 6.0]\n"
     ]
    }
   ],
   "source": [
    "s = []\n",
    "while(True):\n",
    "    i = input(\"Enter a value:\")\n",
    "    if i == \"done\":\n",
    "        avg = sum(s)/len(s)\n",
    "        print(avg)\n",
    "        break\n",
    "    else:\n",
    "        j = float(i)\n",
    "        s.append(j)     \n",
    "print(s)"
   ]
  },
  {
   "cell_type": "markdown",
   "metadata": {},
   "source": [
    "# Strings and List"
   ]
  },
  {
   "cell_type": "code",
   "execution_count": 77,
   "metadata": {},
   "outputs": [
    {
     "ename": "TypeError",
     "evalue": "'list' object is not callable",
     "output_type": "error",
     "traceback": [
      "\u001b[1;31m---------------------------------------------------------------------------\u001b[0m",
      "\u001b[1;31mTypeError\u001b[0m                                 Traceback (most recent call last)",
      "\u001b[1;32me:\\DS&A\\code\\Data_Collection\\list.ipynb Cell 31\u001b[0m in \u001b[0;36m<cell line: 2>\u001b[1;34m()\u001b[0m\n\u001b[0;32m      <a href='vscode-notebook-cell:/e%3A/DS%26A/code/Data_Collection/list.ipynb#X44sZmlsZQ%3D%3D?line=0'>1</a>\u001b[0m e \u001b[39m=\u001b[39m \u001b[39m\"\u001b[39m\u001b[39mspamberry\u001b[39m\u001b[39m\"\u001b[39m\n\u001b[1;32m----> <a href='vscode-notebook-cell:/e%3A/DS%26A/code/Data_Collection/list.ipynb#X44sZmlsZQ%3D%3D?line=1'>2</a>\u001b[0m a \u001b[39m=\u001b[39m \u001b[39mlist\u001b[39;49m(e)\n\u001b[0;32m      <a href='vscode-notebook-cell:/e%3A/DS%26A/code/Data_Collection/list.ipynb#X44sZmlsZQ%3D%3D?line=2'>3</a>\u001b[0m \u001b[39mprint\u001b[39m(a)\n",
      "\u001b[1;31mTypeError\u001b[0m: 'list' object is not callable"
     ]
    }
   ],
   "source": [
    "e = \"spamberry\"\n",
    "a = list(e)\n",
    "print(a)"
   ]
  },
  {
   "cell_type": "code",
   "execution_count": 79,
   "metadata": {},
   "outputs": [
    {
     "name": "stdout",
     "output_type": "stream",
     "text": [
      "['spam', 'berry', 'jack']\n"
     ]
    },
    {
     "ename": "TypeError",
     "evalue": "'list' object is not callable",
     "output_type": "error",
     "traceback": [
      "\u001b[1;31m---------------------------------------------------------------------------\u001b[0m",
      "\u001b[1;31mTypeError\u001b[0m                                 Traceback (most recent call last)",
      "\u001b[1;32me:\\DS&A\\code\\Data_Collection\\list.ipynb Cell 32\u001b[0m in \u001b[0;36m<cell line: 4>\u001b[1;34m()\u001b[0m\n\u001b[0;32m      <a href='vscode-notebook-cell:/e%3A/DS%26A/code/Data_Collection/list.ipynb#X46sZmlsZQ%3D%3D?line=1'>2</a>\u001b[0m g \u001b[39m=\u001b[39m f\u001b[39m.\u001b[39msplit(\u001b[39m'\u001b[39m\u001b[39m-\u001b[39m\u001b[39m'\u001b[39m)\n\u001b[0;32m      <a href='vscode-notebook-cell:/e%3A/DS%26A/code/Data_Collection/list.ipynb#X46sZmlsZQ%3D%3D?line=2'>3</a>\u001b[0m \u001b[39mprint\u001b[39m(g)\n\u001b[1;32m----> <a href='vscode-notebook-cell:/e%3A/DS%26A/code/Data_Collection/list.ipynb#X46sZmlsZQ%3D%3D?line=3'>4</a>\u001b[0m h \u001b[39m=\u001b[39m \u001b[39mlist\u001b[39;49m(g)\n\u001b[0;32m      <a href='vscode-notebook-cell:/e%3A/DS%26A/code/Data_Collection/list.ipynb#X46sZmlsZQ%3D%3D?line=4'>5</a>\u001b[0m \u001b[39mprint\u001b[39m(h)\n",
      "\u001b[1;31mTypeError\u001b[0m: 'list' object is not callable"
     ]
    }
   ],
   "source": [
    "f = 'spam-berry-jack'\n",
    "g = f.split('-')\n",
    "print(g)\n",
    "h = list(g)\n",
    "print(h)"
   ]
  },
  {
   "cell_type": "code",
   "execution_count": 80,
   "metadata": {},
   "outputs": [
    {
     "data": {
      "text/plain": [
       "'spam-berry-jack'"
      ]
     },
     "execution_count": 80,
     "metadata": {},
     "output_type": "execute_result"
    }
   ],
   "source": [
    "d ='-'\n",
    "e = d.join(g)\n",
    "e"
   ]
  },
  {
   "cell_type": "code",
   "execution_count": 84,
   "metadata": {},
   "outputs": [
    {
     "name": "stdout",
     "output_type": "stream",
     "text": [
      "2842957118720\n",
      "[10, 20, 30, 50, 60, 70, 80, 90, 100, 110]\n",
      "2842957118720\n",
      "[10, 20, 30, 110, 50, 60, 70, 80, 90, 100]\n",
      "2842957017984\n"
     ]
    }
   ],
   "source": [
    "s = [10,20,30,110,50,60,70,80,90,100]\n",
    "print(id(s))\n",
    "orig = s[:]\n",
    "s.sort()\n",
    "print(s)\n",
    "print(id(s))\n",
    "print(orig)\n",
    "print(id(orig))\n"
   ]
  },
  {
   "cell_type": "code",
   "execution_count": 5,
   "metadata": {},
   "outputs": [
    {
     "name": "stdout",
     "output_type": "stream",
     "text": [
      "2575383405376\n",
      "{'cherry', 'orange', 'apple', 'banana'}\n",
      "2575383405376\n"
     ]
    }
   ],
   "source": [
    "thisset = {\"apple\", \"banana\", \"cherry\"}\n",
    "print(id(thisset))\n",
    "\n",
    "thisset.add(\"orange\")\n",
    "\n",
    "print(thisset)\n",
    "print(id(thisset))"
   ]
  },
  {
   "cell_type": "code",
   "execution_count": 3,
   "metadata": {},
   "outputs": [
    {
     "name": "stdout",
     "output_type": "stream",
     "text": [
      "None\n"
     ]
    }
   ],
   "source": [
    "l1 =[1,2,3,4,5,6]\n",
    "a = l1.append(7)\n",
    "print(a)"
   ]
  },
  {
   "cell_type": "code",
   "execution_count": 22,
   "metadata": {},
   "outputs": [
    {
     "name": "stdout",
     "output_type": "stream",
     "text": [
      "['1', 2, 'Zebra', 'abc']\n"
     ]
    }
   ],
   "source": [
    "# confusion\n",
    "things = [2, 'abc', 'Zebra', '1']\n",
    "#things.sort()\n",
    "things.sort(key=str)\n",
    "print(things)"
   ]
  }
 ],
 "metadata": {
  "kernelspec": {
   "display_name": "Python 3.10.5 64-bit",
   "language": "python",
   "name": "python3"
  },
  "language_info": {
   "codemirror_mode": {
    "name": "ipython",
    "version": 3
   },
   "file_extension": ".py",
   "mimetype": "text/x-python",
   "name": "python",
   "nbconvert_exporter": "python",
   "pygments_lexer": "ipython3",
   "version": "3.10.5"
  },
  "orig_nbformat": 4,
  "vscode": {
   "interpreter": {
    "hash": "369f2c481f4da34e4445cda3fffd2e751bd1c4d706f27375911949ba6bb62e1c"
   }
  }
 },
 "nbformat": 4,
 "nbformat_minor": 2
}
